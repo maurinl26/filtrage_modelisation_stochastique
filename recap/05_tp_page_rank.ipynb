{
 "cells": [
  {
   "cell_type": "markdown",
   "metadata": {},
   "source": [
    "# TP - PageRank\n",
    "\n",
    "_(Source : Chaînes de Markov et application au PageRank, UPS Toulouse 3, M1-SID, Modélisation)_\n",
    "\n",
    "Le but de ce TP est d'explorer et implémenter des chaînes de Markov., d'estimer leurs densités de probabilités invariantes, et de découvrir le PageRank."
   ]
  },
  {
   "cell_type": "markdown",
   "metadata": {},
   "source": [
    "## 1. Simulation de Chaînes de Markov\n",
    "\n",
    "L'espace d'états d'une chaîne de Markov est décrit comme :\n",
    "\n",
    "$$E = \\{0, 1, ..., N-1\\}$$\n",
    "\n",
    "1. Ecrire une fonction $markov-steps(P, x)$ qui prend en entrée une matrice de transitions $P$ et une distribution initiale $x \\in E$. La sortie est une réalisation d'un pas de la chaîne de Markov."
   ]
  },
  {
   "cell_type": "code",
   "execution_count": null,
   "metadata": {
    "vscode": {
     "languageId": "plaintext"
    }
   },
   "outputs": [],
   "source": []
  },
  {
   "cell_type": "markdown",
   "metadata": {},
   "source": [
    "2. Ecrire une fonction $markov-steps(n,P,x)$ qui simule la réalisation d'une trajectoire de taille $n \\in \\mathbb{N}$. On pourra utiliser la fonction précédente dans une récurrence."
   ]
  },
  {
   "cell_type": "code",
   "execution_count": null,
   "metadata": {
    "vscode": {
     "languageId": "plaintext"
    }
   },
   "outputs": [],
   "source": []
  },
  {
   "cell_type": "markdown",
   "metadata": {},
   "source": [
    "3. Modifier la fonction précédente pour générer une liste de réalisations de trajectoires lorsque $x$ est une liste."
   ]
  },
  {
   "cell_type": "code",
   "execution_count": null,
   "metadata": {
    "vscode": {
     "languageId": "plaintext"
    }
   },
   "outputs": [],
   "source": []
  },
  {
   "cell_type": "markdown",
   "metadata": {},
   "source": [
    "4. On se donne la matrice suivante :\n",
    "$$\n",
    "P = \\left(\n",
    "\\begin{array}{rcl}\n",
    "    1/2 & 1/2 & 0 & 0 \\\\\n",
    "    0 & 1/2 & 1/2 & 0 \\\\\n",
    "    0 & 0 & 1/2 & 1/2 \\\\\n",
    "    1/2 & 0 & 0 & 1/2 \\\\\n",
    "\\end{array}\n",
    "\\right)\n",
    "$$\n",
    "\n",
    "Simuler la trajectoire de longueur $n = 10$ pour la liste initiale $x = [0, 2]$ et afficher le résultat."
   ]
  },
  {
   "cell_type": "markdown",
   "metadata": {},
   "source": []
  },
  {
   "cell_type": "markdown",
   "metadata": {},
   "source": [
    "## 2. Mesures invariantes"
   ]
  },
  {
   "cell_type": "markdown",
   "metadata": {},
   "source": [
    "## 3. PageRank\n",
    "\n",
    "### 3.1. Une première version\n",
    "\n",
    "Ici, on se propose d'implémenter PageRank sur un graphe web à 3 sites, afin de donner une idée du fonctionnement de PageRank.\n",
    "\n",
    "Un internaute est susceptible d'aller sur 3 sites :\n",
    "- le site A contient un lien vers lui-même, un lien vers B et un lien vers C.\n",
    "- le site B comporte 5 liens vers lui-même, un lien vers A et un lien vers C.\n",
    "- le site C comporte un lien vers 1, 7 liens vers B et 4 liens vers lui-même.\n",
    "\n",
    "Au départ, l'internaute choisit au hasrad l'un des 3 sites. Par la suite, la probabilité de passer d'un site (à l'instant $n$) vers un autre (à l'instant $n + 1$) est proportionnelle au nombre de liens du premier site vers le second.\n",
    "\n",
    "5. Ecrire et implémenter la matrice de transition avec python.\n",
    "\n"
   ]
  },
  {
   "cell_type": "code",
   "execution_count": null,
   "metadata": {
    "vscode": {
     "languageId": "plaintext"
    }
   },
   "outputs": [],
   "source": []
  },
  {
   "cell_type": "markdown",
   "metadata": {},
   "source": [
    "6. Simuler les déplacements d'un internaute et donner un plot pour $n = 1000$. Quel ranking donneriez-vous à l'oeil nu ? Quel théorème invoquez-vous de façon implicite ?"
   ]
  },
  {
   "cell_type": "code",
   "execution_count": null,
   "metadata": {
    "vscode": {
     "languageId": "plaintext"
    }
   },
   "outputs": [],
   "source": []
  },
  {
   "cell_type": "markdown",
   "metadata": {},
   "source": [
    "7. Donner rigoureusement le PageRank de ces 3 sites."
   ]
  },
  {
   "cell_type": "code",
   "execution_count": null,
   "metadata": {
    "vscode": {
     "languageId": "plaintext"
    }
   },
   "outputs": [],
   "source": []
  },
  {
   "cell_type": "markdown",
   "metadata": {},
   "source": [
    "### 3.2 Une version plus réaliste\n",
    "\n",
    "Le défi du PageRank consiste à estimer une mesure invariante pour de très grandes matrices, connues seulement \n",
    "partiellement.\n",
    "\n",
    "8. Une difficulté majeure consiste à représenter de manière réaliste le réseau internet : un grand graphe, avec des degrès de sommets très faibles. "
   ]
  },
  {
   "cell_type": "code",
   "execution_count": null,
   "metadata": {
    "vscode": {
     "languageId": "plaintext"
    }
   },
   "outputs": [],
   "source": []
  }
 ],
 "metadata": {
  "language_info": {
   "name": "python"
  }
 },
 "nbformat": 4,
 "nbformat_minor": 2
}
