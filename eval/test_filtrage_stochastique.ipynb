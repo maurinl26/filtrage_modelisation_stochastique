{
 "cells": [
  {
   "cell_type": "markdown",
   "metadata": {},
   "source": [
    "# Test Filtrage Stochastique\n",
    "16/12/2024\n",
    "M2 HPC-BigData, ENM/N7\n"
   ]
  },
  {
   "cell_type": "markdown",
   "metadata": {},
   "source": [
    "## Exercice 1 - Filtre Kalman\n",
    "\n",
    "On cherche à localiser une personne en utilisant ses coordonnées $(u, v)$.\n",
    "\n",
    "On dispose d'une estimation $(u_b, v_b)$ de la position de la personne et de sa matrice de covariance $\\sigma^2_b I_2$.\n",
    "\n",
    "On suppose qu'on observe la positon $u$ par une mesure notée $\\tilde{u}$. La variance associée à l'erreur de mesure est $\\sigma_u^2$ _(la moyenne de l'erreur de mesure est nulle)_.\n",
    "\n",
    "1. Calculer l'estimation de la position ainsi que la matrice de covariance associée."
   ]
  },
  {
   "cell_type": "markdown",
   "metadata": {},
   "source": [
    "2. Calculer pour les cas limites suivants :\n",
    "\n",
    "    1. $\\sigma_u \\rightarrow + \\infty$ \n",
    "    2. $\\sigma_b \\rightarrow + \\infty$\n",
    "\n",
    "Interpréter ces résultats"
   ]
  },
  {
   "cell_type": "markdown",
   "metadata": {},
   "source": [
    "## Exercice 2 - Filtre Kalman\n",
    "\n",
    "En reprenant les mêmes données que pour l'exercice précédent, au temps $t_0 = 0$, nous avons l'estimation $(0, v_b)$ avec la matrice de covariance $\\sigma^2_b I_2$.\n",
    "\n",
    "On se donne un pas de temps $\\Delta t$ strictement positif. On souhaite calculer la position au temps $t_k = k \\Delta t$.\n",
    "\n",
    "A chaque pas $t_k, k \\geq 0$, on observe :\n",
    "$$y_k = v_k + \\epsilon_k, \\epsilon_k \\sim \\mathcal{N}$$\n",
    "\n",
    "On sait également que la personne évolue selon les équations suivantes :\n",
    "\n",
    "$$\n",
    "\\begin{array}{rcl}\n",
    "    u_{k+1} &=& u_k + e_k,& e_k \\sim \\mathcal{N}(0, \\sigma_o^2) \\\\\n",
    "    v_{k+1} &=& v_k + \\Delta t + g_k,& g_k \\sim \\mathcal{N}(0, \\sigma_q^2)\n",
    "\\end{array}\n",
    "$$"
   ]
  },
  {
   "cell_type": "markdown",
   "metadata": {},
   "source": [
    "1. A quelle équation différentielle, discrétisée par méthode d'Euler, correspond cette dynamique ?"
   ]
  },
  {
   "cell_type": "markdown",
   "metadata": {},
   "source": [
    "2. Calculer l'estimation de la position $(u_0, v_0)$ à $t = 0$ en utilisant $y_0$ et la donnée $(0, v_b)$."
   ]
  },
  {
   "cell_type": "markdown",
   "metadata": {},
   "source": [
    "3. Calculer l'estimation de $t_1$ en utilisant $y_0$, la donnée $(0, v_b)$ et l'équation de la dynamique entre $t_0$ et $t_1$. Mettre à jour, dans un second temps, l'estimation avec l'observation $y_1$ à $t_1$. On note $(u_1, v_1)$ l'estimation obtenue et $P_1$ la matrice de covariance associée à l'erreur estimée."
   ]
  },
  {
   "cell_type": "markdown",
   "metadata": {},
   "source": [
    "4. Etudier le comportement de $(u_1, v_1)$ et de $P_1$ lorsque $\\sigma_b$, $\\sigma_q$, et $\\sigma_o$ tendent (séparément) vers $0$ et $+ \\infty$. Interpréter les résultats. "
   ]
  },
  {
   "cell_type": "markdown",
   "metadata": {},
   "source": [
    "5. Donner la formule générale pour le filtre (estimation de l'état et de la covariance de l'erreur) pour tous les $t_k$."
   ]
  },
  {
   "cell_type": "markdown",
   "metadata": {},
   "source": [
    "## Exercice 3 - Mobile le long d'une ligne droite\n",
    "\n"
   ]
  },
  {
   "cell_type": "markdown",
   "metadata": {},
   "source": [
    "_(A faire)_"
   ]
  },
  {
   "cell_type": "markdown",
   "metadata": {},
   "source": [
    "# Exercice 4 - EnKF\n",
    "\n",
    "1. Expliquer pourquoi l'équation suivante, qui intervient dans le filtre Kalman d'ensemble, est cohérente avec l'étape 4 du filtre de Kalman.\n",
    "\n",
    "$$Z_{k|k}^N = Z_{k|k-1} + \\frac{1}{N - 1} A_{k|k-1}^N (A_{k|k-1}^N)^T H_k^T (R_k + H_k \\frac{1}{N - 1} A_{k|k-1}^N (A_{k|k-1}^N)^T H_k^T)^{-1} (Y_k^{1:N} - H_k Z_{k|k-1}^N)$$\n",
    "\n",
    "Expliquer pourquoi il est important d'échantillonner $y_k^l \\sim \\mathcal{N}(y_k, R_k)$ au lieu de prendre simplement $y^l_k=y_k$.\n"
   ]
  },
  {
   "cell_type": "markdown",
   "metadata": {},
   "source": [
    "2. Justifier la cohérence entre l'équation suivante de l'enKF et le filtre Kalman :\n",
    "\n",
    "$$Z^N_{k+1|k} = F_k Z_{k|k}^N + E_k$$ \n",
    "où $E_k^N = [e_k¹, ..., e_k^N]$ et $e_k^l$ est tiré de la loi $\\mathcal{N}(x_b, B)$."
   ]
  },
  {
   "cell_type": "markdown",
   "metadata": {},
   "source": [
    "## Exercice 5 - Formule d'Itô et Mouvement Brownien"
   ]
  },
  {
   "cell_type": "markdown",
   "metadata": {},
   "source": [
    "Soit $X_t = W_t^2$, où $W_t$ est un mouvement brownien standard. Calculer $dX_t$ en utilisant la formule d'Itô.\n"
   ]
  },
  {
   "cell_type": "markdown",
   "metadata": {},
   "source": [
    "_Rappel de la formule d'Itô :_\n",
    "\n",
    "Avec un processus stochastique $X_t$ satisfaisant $dX_t = a(X_t, t) dt + b(X_t, t) dW_t$,\n",
    "\n",
    "Pour $f(X_t, t)$ deux fois continuement dérivable, la différentielle $df$ est donnée par :\n",
    "\n",
    "$$df = (\\frac{\\partial f}{\\partial t} + a(X_t, t) \\frac{\\partial f}{\\partial x} + \\frac{1}{2} b^2(X_t, t) \\frac{\\partial^2 f}{\\partial x^2}) dt + b(X_t, t) \\frac{\\partial f}{\\partial x} dW_t$$"
   ]
  },
  {
   "cell_type": "markdown",
   "metadata": {},
   "source": [
    "## Exercice 6 - Application de la Méthode d'Euler-Maruyama\n",
    "\n",
    "Simuler l'équation différentielle stochastique suivante :\n",
    "\n",
    "$$dX_t = X_t\\, dt + X_t\\, dW_t, \\, W_0 = 1$$\n",
    "\n",
    "Utiliser la méthode d'Euler-Maruyama avec $\\Delta t = 0.01$, sur l'intervalle $[0, 1]$.\n",
    "\n",
    "Afficher le graphe d'une réalisation."
   ]
  }
 ],
 "metadata": {
  "language_info": {
   "name": "python"
  }
 },
 "nbformat": 4,
 "nbformat_minor": 2
}
